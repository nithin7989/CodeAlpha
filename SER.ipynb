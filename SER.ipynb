{
  "cells": [
    {
      "cell_type": "code",
      "execution_count": null,
      "metadata": {
        "id": "piZn14S4jJS7"
      },
      "outputs": [],
      "source": [
        "from google.colab import drive\n",
        "drive.mount('/content/drive')"
      ]
    },
    {
      "cell_type": "code",
      "execution_count": null,
      "metadata": {
        "id": "iIvynEBel-1g"
      },
      "outputs": [],
      "source": [
        "import os\n",
        "import warnings\n",
        "warnings.filterwarnings('ignore')"
      ]
    },
    {
      "cell_type": "code",
      "execution_count": null,
      "metadata": {
        "id": "U218R1nZlvBJ"
      },
      "outputs": [],
      "source": [
        "from sklearn.model_selection import StratifiedShuffleSplit\n",
        "from sklearn.preprocessing import LabelEncoder\n",
        "from keras.utils import np_utils\n",
        "from keras.layers import Conv1D, Activation, Flatten, Dense\n",
        "from keras.models import Sequential\n",
        "\n",
        "import pandas as pd\n",
        "import librosa\n",
        "import numpy as np\n",
        "\n",
        "root_path=r'/content/drive/MyDrive/ravdess'\n",
        "\n",
        "actors = ['Actor_01', 'Actor_02', 'Actor_03', 'Actor_04', 'Actor_05']"
      ]
    },
    {
      "cell_type": "code",
      "execution_count": null,
      "metadata": {
        "colab": {
          "background_save": true
        },
        "id": "YrYSnrPAtehh",
        "outputId": "3cd7e7bf-0d6c-45f2-ce88-411c3ce14307"
      },
      "outputs": [
        {
          "data": {
            "text/plain": [
              "((300, 130), (300,))"
            ]
          },
          "execution_count": 4,
          "metadata": {},
          "output_type": "execute_result"
        }
      ],
      "source": [
        "features=[]\n",
        "labels=[]\n",
        "for actor in actors:\n",
        "  file_names = os.listdir(os.path.join(root_path,actor))\n",
        "  for i in range(len(file_names)):\n",
        "    full_path = os.path.join(root_path, actor, file_names[i])\n",
        "    splits= file_names[i].split('.')[0].split('-')\n",
        "    label = splits[2]\n",
        "    modality=splits[0]\n",
        "    if modality=='01':\n",
        "      raw_audio, sample_rate = librosa.load(full_path, sr=22050, duration=3)\n",
        "      mfccs=librosa.feature.mfcc(y=raw_audio, sr=22050, n_mfcc=13)\n",
        "      mfccs = np.mean(mfccs,axis=0)\n",
        "      features.append(mfccs)\n",
        "      labels.append(int(label))\n",
        "\n",
        "features = np.asarray(features)\n",
        "labels = np.asarray(labels)\n",
        "\n",
        "features.shape, labels.shape"
      ]
    },
    {
      "cell_type": "code",
      "execution_count": null,
      "metadata": {
        "id": "hkzqKJYlu3i3"
      },
      "outputs": [],
      "source": [
        "from sklearn.model_selection import train_test_split"
      ]
    },
    {
      "cell_type": "code",
      "execution_count": null,
      "metadata": {
        "id": "zmT4Gq_SzumA"
      },
      "outputs": [],
      "source": [
        "X_train, X_test, y_train, y_test = train_test_split(features, labels, test_size=0.2, random_state=7)\n",
        "X_train.shape, X_test.shape, y_train.shape, y_test.shape"
      ]
    },
    {
      "cell_type": "code",
      "execution_count": null,
      "metadata": {
        "id": "-7_JSxqpwboB"
      },
      "outputs": [],
      "source": [
        "from sklearn.preprocessing import LabelEncoder\n",
        "\n",
        "lb = LabelEncoder()\n",
        "y_train = np_utils.to_categorical(lb.fit_transform(y_train))\n",
        "y_test = np_utils.to_categorical(lb.fit_transform(y_test))\n",
        "\n",
        "x_train = np.expand_dims(X_train, axis=2)\n",
        "x_test = np.expand_dims(X_test, axis=2)"
      ]
    },
    {
      "cell_type": "code",
      "execution_count": null,
      "metadata": {
        "id": "HijhgIl5L3bK"
      },
      "outputs": [],
      "source": [
        "from keras.models import Model\n",
        "from keras import Input"
      ]
    },
    {
      "cell_type": "code",
      "execution_count": null,
      "metadata": {
        "id": "SkoBmclNkdBT"
      },
      "outputs": [],
      "source": [
        "inputs = Input(shape=(X_train.shape[1],1))\n",
        "x=Conv1D(32, 5, padding='same')(inputs)\n",
        "x=Conv1D(32, 5, padding='same')(x)\n",
        "x=Activation('relu')(x)\n",
        "x=Conv1D(64, 3)(x)\n",
        "x=Conv1D(64, 3)(x)\n",
        "x=Flatten()(x)\n",
        "x=Dense(8)(x)\n",
        "x=Activation('softmax')(x)"
      ]
    },
    {
      "cell_type": "code",
      "execution_count": null,
      "metadata": {
        "id": "NsN95p2BNU5H"
      },
      "outputs": [],
      "source": [
        "model = Model(inputs=inputs, outputs=x)\n",
        "\n",
        "model.compile(loss='categorical_crossentropy', optimizer='adam', metrics=['accuracy'])\n",
        "model.fit(x_train, y_train, validation_data=(x_test, y_test), epochs=50, batch_size=64)"
      ]
    },
    {
      "cell_type": "code",
      "execution_count": null,
      "metadata": {
        "id": "R18DjltN767Y"
      },
      "outputs": [],
      "source": []
    }
  ],
  "metadata": {
    "accelerator": "GPU",
    "colab": {
      "provenance": []
    },
    "kernelspec": {
      "display_name": "Python 3",
      "name": "python3"
    },
    "language_info": {
      "name": "python"
    }
  },
  "nbformat": 4,
  "nbformat_minor": 0
}