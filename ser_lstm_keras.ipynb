{
  "nbformat": 4,
  "nbformat_minor": 0,
  "metadata": {
    "colab": {
      "provenance": [],
      "gpuType": "T4"
    },
    "kernelspec": {
      "name": "python3",
      "display_name": "Python 3"
    },
    "language_info": {
      "name": "python"
    },
    "accelerator": "GPU"
  },
  "cells": [
    {
      "cell_type": "code",
      "execution_count": null,
      "metadata": {
        "id": "dKjhXU7ay05h",
        "colab": {
          "base_uri": "https://localhost:8080/"
        },
        "outputId": "efd35a59-6b1b-4556-9549-551c7e721ab3"
      },
      "outputs": [
        {
          "output_type": "stream",
          "name": "stdout",
          "text": [
            "Drive already mounted at /content/drive; to attempt to forcibly remount, call drive.mount(\"/content/drive\", force_remount=True).\n"
          ]
        }
      ],
      "source": [
        "from google.colab import drive\n",
        "drive.mount('/content/drive')"
      ]
    },
    {
      "cell_type": "code",
      "source": [
        "from sklearn.model_selection import train_test_split\n",
        "\n",
        "import warnings\n",
        "warnings.filterwarnings('ignore')\n",
        "import os\n",
        "import librosa\n",
        "import numpy as np"
      ],
      "metadata": {
        "id": "c1J7S4hLzi4W"
      },
      "execution_count": null,
      "outputs": []
    },
    {
      "cell_type": "code",
      "source": [
        "root_path=r'/content/drive/MyDrive/ravdess'"
      ],
      "metadata": {
        "id": "A2jnxFkEzGyi"
      },
      "execution_count": null,
      "outputs": []
    },
    {
      "cell_type": "code",
      "source": [
        "dirs = os.listdir(root_path)"
      ],
      "metadata": {
        "id": "JsG-inuLzZCJ"
      },
      "execution_count": null,
      "outputs": []
    },
    {
      "cell_type": "code",
      "source": [
        "X = []\n",
        "y = []\n",
        "\n",
        "for dir in dirs:\n",
        "  temp_path = os.path.join(root_path, dir)\n",
        "  files = os.listdir(temp_path)\n",
        "  for file in files:\n",
        "    file_path = os.path.join(temp_path, file)\n",
        "    splits = file.split('-')\n",
        "    label = int(splits[2])-1\n",
        "    modality = splits[0]\n",
        "    if modality=='01':\n",
        "      raw_au, sample_rate = librosa.load(file_path, sr=22050, duration=3)\n",
        "      X.append(raw_au)\n",
        "      y.append(label)\n",
        "\n",
        "X = np.asarray(X)\n",
        "y = np.asarray(y)\n",
        "print(X.shape, y.shape)"
      ],
      "metadata": {
        "colab": {
          "base_uri": "https://localhost:8080/"
        },
        "id": "4lMQPMBWzkzi",
        "outputId": "31d9ff5b-f0d1-4f0a-b7b9-04fa4bd965a7"
      },
      "execution_count": null,
      "outputs": [
        {
          "output_type": "stream",
          "name": "stdout",
          "text": [
            "(360, 66150) (360,)\n"
          ]
        }
      ]
    },
    {
      "cell_type": "code",
      "source": [
        "from keras.utils import to_categorical"
      ],
      "metadata": {
        "id": "OCU3eAG-As0-"
      },
      "execution_count": null,
      "outputs": []
    },
    {
      "cell_type": "code",
      "source": [
        "X=np.expand_dims(X, axis=2)\n",
        "y=to_categorical(y)\n",
        "X.shape, y.shape"
      ],
      "metadata": {
        "colab": {
          "base_uri": "https://localhost:8080/"
        },
        "id": "K-6K744T_dLH",
        "outputId": "a2775789-a59c-4cb4-cb95-b72135b28042"
      },
      "execution_count": null,
      "outputs": [
        {
          "output_type": "execute_result",
          "data": {
            "text/plain": [
              "((360, 66150, 1), (360, 8))"
            ]
          },
          "metadata": {},
          "execution_count": 44
        }
      ]
    },
    {
      "cell_type": "code",
      "source": [
        "train_X, test_X, train_y, test_y = train_test_split(X, y, test_size=0.2, random_state=1)\n",
        "print(train_X.shape, train_y.shape, test_X.shape, test_y.shape)"
      ],
      "metadata": {
        "colab": {
          "base_uri": "https://localhost:8080/"
        },
        "id": "WJL0qr3402je",
        "outputId": "e39b2696-1d8b-4172-b3d1-a9677f8270a7"
      },
      "execution_count": null,
      "outputs": [
        {
          "output_type": "stream",
          "name": "stdout",
          "text": [
            "(288, 66150, 1) (288, 8) (72, 66150, 1) (72, 8)\n"
          ]
        }
      ]
    },
    {
      "cell_type": "code",
      "source": [
        "from tensorflow.keras import Sequential\n",
        "from tensorflow.keras.layers import LSTM, Dense, Activation"
      ],
      "metadata": {
        "id": "j0hdm7lP9rvs"
      },
      "execution_count": null,
      "outputs": []
    },
    {
      "cell_type": "code",
      "source": [
        "model = Sequential()\n",
        "model.add(LSTM(16, input_shape=(66150, 1), return_sequences=True))\n",
        "model.add(LSTM(16))\n",
        "model.add(Dense(8))\n",
        "model.add(Activation('softmax'))\n",
        "model.compile(metrics=['acc'], loss='categorical_crossentropy', optimizer='adam')"
      ],
      "metadata": {
        "id": "q_ydBdCi9U1j"
      },
      "execution_count": null,
      "outputs": []
    },
    {
      "cell_type": "code",
      "source": [
        "model.fit(train_X, train_y, validation_data = (test_X, test_y), epochs=50, batch_size=32)"
      ],
      "metadata": {
        "colab": {
          "base_uri": "https://localhost:8080/"
        },
        "id": "71FV4Jge9jvn",
        "outputId": "07579787-7982-4325-d050-dbea2e550fc6"
      },
      "execution_count": null,
      "outputs": [
        {
          "output_type": "stream",
          "name": "stdout",
          "text": [
            "Epoch 1/50\n",
            "9/9 [==============================] - 35s 3s/step - loss: 2.0793 - acc: 0.1111 - val_loss: 2.0797 - val_acc: 0.1250\n",
            "Epoch 2/50\n",
            "9/9 [==============================] - 30s 3s/step - loss: 2.0763 - acc: 0.1285 - val_loss: 2.0804 - val_acc: 0.1111\n",
            "Epoch 3/50\n",
            "9/9 [==============================] - 31s 4s/step - loss: 2.0730 - acc: 0.1389 - val_loss: 2.0812 - val_acc: 0.1111\n",
            "Epoch 4/50\n",
            "9/9 [==============================] - 31s 4s/step - loss: 2.0701 - acc: 0.1389 - val_loss: 2.0817 - val_acc: 0.1111\n",
            "Epoch 5/50\n",
            "9/9 [==============================] - 31s 4s/step - loss: 2.0677 - acc: 0.1389 - val_loss: 2.0846 - val_acc: 0.1111\n",
            "Epoch 6/50\n",
            "9/9 [==============================] - 31s 3s/step - loss: 2.0650 - acc: 0.1389 - val_loss: 2.0855 - val_acc: 0.1111\n",
            "Epoch 7/50\n",
            "9/9 [==============================] - 30s 3s/step - loss: 2.0630 - acc: 0.1389 - val_loss: 2.0909 - val_acc: 0.1111\n",
            "Epoch 8/50\n",
            "9/9 [==============================] - 31s 4s/step - loss: 2.0601 - acc: 0.1389 - val_loss: 2.0925 - val_acc: 0.1111\n",
            "Epoch 9/50\n",
            "9/9 [==============================] - 31s 4s/step - loss: 2.0593 - acc: 0.1389 - val_loss: 2.0920 - val_acc: 0.1111\n",
            "Epoch 10/50\n",
            "9/9 [==============================] - 31s 3s/step - loss: 2.0572 - acc: 0.1389 - val_loss: 2.0935 - val_acc: 0.1111\n",
            "Epoch 11/50\n",
            "9/9 [==============================] - 30s 3s/step - loss: 2.0568 - acc: 0.1389 - val_loss: 2.0945 - val_acc: 0.1111\n",
            "Epoch 12/50\n",
            "9/9 [==============================] - 31s 4s/step - loss: 2.0550 - acc: 0.1389 - val_loss: 2.0958 - val_acc: 0.1111\n",
            "Epoch 13/50\n",
            "9/9 [==============================] - 31s 4s/step - loss: 2.0556 - acc: 0.1389 - val_loss: 2.0966 - val_acc: 0.1111\n",
            "Epoch 14/50\n",
            "9/9 [==============================] - 30s 3s/step - loss: 2.0541 - acc: 0.1389 - val_loss: 2.0970 - val_acc: 0.1111\n",
            "Epoch 15/50\n",
            "9/9 [==============================] - 31s 3s/step - loss: 2.0546 - acc: 0.1389 - val_loss: 2.0976 - val_acc: 0.1111\n",
            "Epoch 16/50\n",
            "9/9 [==============================] - 31s 3s/step - loss: 2.0532 - acc: 0.1354 - val_loss: 2.0939 - val_acc: 0.1111\n",
            "Epoch 17/50\n",
            "9/9 [==============================] - 31s 4s/step - loss: 2.0537 - acc: 0.1458 - val_loss: 2.0948 - val_acc: 0.1111\n",
            "Epoch 18/50\n",
            "9/9 [==============================] - 31s 4s/step - loss: 2.0520 - acc: 0.1389 - val_loss: 2.0999 - val_acc: 0.1111\n",
            "Epoch 19/50\n",
            "9/9 [==============================] - 31s 3s/step - loss: 2.0518 - acc: 0.1319 - val_loss: 2.0979 - val_acc: 0.1111\n",
            "Epoch 20/50\n",
            "9/9 [==============================] - 30s 3s/step - loss: 2.0491 - acc: 0.1319 - val_loss: 2.0957 - val_acc: 0.0972\n",
            "Epoch 21/50\n",
            "9/9 [==============================] - 31s 4s/step - loss: 2.0503 - acc: 0.1597 - val_loss: 2.0941 - val_acc: 0.0833\n",
            "Epoch 22/50\n",
            "9/9 [==============================] - 31s 4s/step - loss: 2.0495 - acc: 0.1597 - val_loss: 2.0937 - val_acc: 0.0972\n",
            "Epoch 23/50\n",
            "9/9 [==============================] - 30s 3s/step - loss: 2.0480 - acc: 0.1493 - val_loss: 2.1038 - val_acc: 0.1111\n",
            "Epoch 24/50\n",
            "9/9 [==============================] - 32s 3s/step - loss: 2.0469 - acc: 0.1632 - val_loss: 2.0919 - val_acc: 0.1111\n",
            "Epoch 25/50\n",
            "9/9 [==============================] - 31s 4s/step - loss: 2.0449 - acc: 0.1424 - val_loss: 2.0912 - val_acc: 0.1111\n",
            "Epoch 26/50\n",
            "9/9 [==============================] - 30s 3s/step - loss: 2.0433 - acc: 0.1597 - val_loss: 2.0870 - val_acc: 0.1389\n",
            "Epoch 27/50\n",
            "9/9 [==============================] - 31s 4s/step - loss: 2.0500 - acc: 0.1424 - val_loss: 2.0858 - val_acc: 0.1250\n",
            "Epoch 28/50\n",
            "9/9 [==============================] - 31s 4s/step - loss: 2.0513 - acc: 0.1458 - val_loss: 2.0867 - val_acc: 0.1250\n",
            "Epoch 29/50\n",
            "9/9 [==============================] - 31s 3s/step - loss: 2.0477 - acc: 0.1458 - val_loss: 2.0902 - val_acc: 0.1250\n",
            "Epoch 30/50\n",
            "9/9 [==============================] - 31s 4s/step - loss: 2.0446 - acc: 0.1181 - val_loss: 2.0939 - val_acc: 0.1250\n",
            "Epoch 31/50\n",
            "9/9 [==============================] - 31s 4s/step - loss: 2.0399 - acc: 0.1528 - val_loss: 2.0968 - val_acc: 0.1528\n",
            "Epoch 32/50\n",
            "9/9 [==============================] - 31s 4s/step - loss: 2.0357 - acc: 0.1424 - val_loss: 2.0948 - val_acc: 0.1111\n",
            "Epoch 33/50\n",
            "9/9 [==============================] - 31s 3s/step - loss: 2.0320 - acc: 0.1597 - val_loss: 2.0868 - val_acc: 0.1111\n",
            "Epoch 34/50\n",
            "9/9 [==============================] - 31s 3s/step - loss: 2.0273 - acc: 0.1562 - val_loss: 2.0837 - val_acc: 0.0972\n",
            "Epoch 35/50\n",
            "9/9 [==============================] - 31s 4s/step - loss: 2.0276 - acc: 0.1562 - val_loss: 2.0760 - val_acc: 0.1250\n",
            "Epoch 36/50\n",
            "9/9 [==============================] - 31s 4s/step - loss: 2.0221 - acc: 0.1840 - val_loss: 2.0841 - val_acc: 0.1250\n",
            "Epoch 37/50\n",
            "9/9 [==============================] - 31s 3s/step - loss: 2.0202 - acc: 0.1528 - val_loss: 2.0844 - val_acc: 0.1111\n",
            "Epoch 38/50\n",
            "9/9 [==============================] - 30s 3s/step - loss: 2.0182 - acc: 0.1528 - val_loss: 2.0745 - val_acc: 0.1528\n",
            "Epoch 39/50\n",
            "9/9 [==============================] - 31s 4s/step - loss: 2.0175 - acc: 0.1632 - val_loss: 2.0811 - val_acc: 0.1944\n",
            "Epoch 40/50\n",
            "9/9 [==============================] - 30s 3s/step - loss: 2.0150 - acc: 0.1875 - val_loss: 2.0813 - val_acc: 0.1528\n",
            "Epoch 41/50\n",
            "9/9 [==============================] - 31s 4s/step - loss: 2.0140 - acc: 0.1597 - val_loss: 2.0861 - val_acc: 0.1528\n",
            "Epoch 42/50\n",
            "9/9 [==============================] - 31s 3s/step - loss: 2.0132 - acc: 0.1806 - val_loss: 2.0883 - val_acc: 0.1528\n",
            "Epoch 43/50\n",
            "9/9 [==============================] - 30s 3s/step - loss: 2.0118 - acc: 0.1701 - val_loss: 2.0877 - val_acc: 0.1250\n",
            "Epoch 44/50\n",
            "9/9 [==============================] - 31s 4s/step - loss: 2.0108 - acc: 0.1493 - val_loss: 2.0916 - val_acc: 0.1250\n",
            "Epoch 45/50\n",
            "9/9 [==============================] - 31s 4s/step - loss: 2.0121 - acc: 0.1806 - val_loss: 2.0754 - val_acc: 0.1667\n",
            "Epoch 46/50\n",
            "9/9 [==============================] - 31s 4s/step - loss: 2.0258 - acc: 0.1562 - val_loss: 2.0813 - val_acc: 0.1250\n",
            "Epoch 47/50\n",
            "9/9 [==============================] - 31s 3s/step - loss: 2.0242 - acc: 0.1458 - val_loss: 2.0744 - val_acc: 0.1111\n",
            "Epoch 48/50\n",
            "9/9 [==============================] - 30s 3s/step - loss: 2.0174 - acc: 0.1632 - val_loss: 2.0775 - val_acc: 0.1111\n",
            "Epoch 49/50\n",
            "9/9 [==============================] - 31s 4s/step - loss: 2.0137 - acc: 0.1667 - val_loss: 2.0788 - val_acc: 0.1111\n",
            "Epoch 50/50\n",
            "9/9 [==============================] - 31s 4s/step - loss: 2.0151 - acc: 0.1632 - val_loss: 2.0745 - val_acc: 0.1111\n"
          ]
        },
        {
          "output_type": "execute_result",
          "data": {
            "text/plain": [
              "<keras.src.callbacks.History at 0x7a268cd03850>"
            ]
          },
          "metadata": {},
          "execution_count": 48
        }
      ]
    },
    {
      "cell_type": "code",
      "source": [],
      "metadata": {
        "id": "xWQxj8Kg_Lzr"
      },
      "execution_count": null,
      "outputs": []
    }
  ]
}